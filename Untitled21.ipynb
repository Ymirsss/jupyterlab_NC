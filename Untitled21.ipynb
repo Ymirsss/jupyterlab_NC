{
 "cells": [
  {
   "cell_type": "code",
   "execution_count": null,
   "id": "cf4f3db9-eedb-4d58-9d8e-9b3ae252b67e",
   "metadata": {},
   "outputs": [],
   "source": [
    "\n",
    "import torch\n",
    "import torchvision\n",
    "\n",
    "torch.cuda.synchronize()\n",
    "torch.cuda.empty_cache()\n",
    "\n",
    "device = torch.device('cuda:0')\n",
    "torch.cuda.set_device()\n",
    "\n",
    "model = B.SomeModel.to('cuda')\n",
    "model = B.SomeModel.to(device)\n",
    "\n",
    "X = torch.randn(16, 3, 224, 224)\n",
    "X2 = torch.ones(16, 3, 224, 224)\n",
    "\n",
    "X = X.cuda()\n",
    "X2 = torch.tensor(X2, device='cuda')\n",
    "\n",
    "torch.cuda.synchronize()\n",
    "\n",
    "\n"
   ]
  },
  {
   "cell_type": "code",
   "execution_count": null,
   "id": "2c31616b-a166-4941-a1e4-a45e3d1de204",
   "metadata": {},
   "outputs": [],
   "source": [
    "\n",
    "\n",
    "\n"
   ]
  }
 ],
 "metadata": {
  "kernelspec": {
   "display_name": "Python 3 (ipykernel)",
   "language": "python",
   "name": "python3"
  },
  "language_info": {
   "codemirror_mode": {
    "name": "ipython",
    "version": 3
   },
   "file_extension": ".py",
   "mimetype": "text/x-python",
   "name": "python",
   "nbconvert_exporter": "python",
   "pygments_lexer": "ipython3",
   "version": "3.10.5"
  }
 },
 "nbformat": 4,
 "nbformat_minor": 5
}
