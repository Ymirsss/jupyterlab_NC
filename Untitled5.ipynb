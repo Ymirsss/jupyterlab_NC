{
 "cells": [
  {
   "cell_type": "code",
   "execution_count": null,
   "id": "b28f329c-ff1f-4629-b672-64b00b4540f5",
   "metadata": {},
   "outputs": [],
   "source": [
    "import torch\n",
    "import torchvision.models as models\n",
    "model = models.resnet50(pretrained=True)\n",
    "model.eval()\n",
    "input = torch.rand(1, 3, 224, 224)\n",
    "with torch.no_grad():\n",
    "        # [coder] pytorch_mixed_precision_cpu [begin]  # [coder-enabled]\n",
    "        import torch # [coder-enabled]\n",
    "        with torch.cpu.amp.autocast(enabled=True, dtype=torch.bfloat16): # [coder-enabled]\n",
    "        # [coder] pytorch_mixed_precision_cpu [end] # [coder-enabled]\n",
    "            output = model(input)\n",
    "\n"
   ]
  }
 ],
 "metadata": {
  "kernelspec": {
   "display_name": "Python 3 (ipykernel)",
   "language": "python",
   "name": "python3"
  },
  "language_info": {
   "codemirror_mode": {
    "name": "ipython",
    "version": 3
   },
   "file_extension": ".py",
   "mimetype": "text/x-python",
   "name": "python",
   "nbconvert_exporter": "python",
   "pygments_lexer": "ipython3",
   "version": "3.10.5"
  }
 },
 "nbformat": 4,
 "nbformat_minor": 5
}
