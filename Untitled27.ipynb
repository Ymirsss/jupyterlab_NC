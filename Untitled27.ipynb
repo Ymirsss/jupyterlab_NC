{
 "cells": [
  {
   "cell_type": "code",
   "execution_count": null,
   "id": "0ef909be-7f53-4a68-98a5-9252310291ec",
   "metadata": {},
   "outputs": [],
   "source": [
    "import torch\n",
    "import torchvision.models as models\n",
    "model = models.resnet50(pretrained=True)\n",
    "# [coder] pytorch_inc_dynamic_quantmodel [begin] # [coder-enabled]\n",
    "if \"GraphModule\" not in str(type(model)): # [coder-enabled]\n",
    "    from neural_compressor.conf.config import QuantConf # [coder-enabled]\n",
    "    from neural_compressor.experimental import Quantization, common # [coder-enabled]\n",
    "    quant_config = QuantConf() # [coder-enabled]\n",
    "    quant_config.usr_cfg.quantization.approach = \"post_training_dynamic_quant\" # [coder-enabled]\n",
    "    quant_config.usr_cfg.model.framework = \"pytorch\" # [coder-enabled]\n",
    "    quantizer = Quantization(quant_config) # [coder-enabled]\n",
    "    quantizer.model = common.Model(model) # [coder-enabled]\n",
    "    model = quantizer() # [coder-enabled]\n",
    "    model = model.model # [coder-enabled]\n",
    "    model.eval() # [coder-enabled]\n",
    "# [coder] pytorch_inc_dynamic_quantmodel [end] # [coder-enabled]\n",
    "model.eval()\n",
    "input = torch.rand(1, 3, 224, 224)\n",
    "with torch.no_grad():\n",
    "        output = model(input)\n",
    "\n"
   ]
  }
 ],
 "metadata": {
  "kernelspec": {
   "display_name": "Python 3 (ipykernel)",
   "language": "python",
   "name": "python3"
  },
  "language_info": {
   "codemirror_mode": {
    "name": "ipython",
    "version": 3
   },
   "file_extension": ".py",
   "mimetype": "text/x-python",
   "name": "python",
   "nbconvert_exporter": "python",
   "pygments_lexer": "ipython3",
   "version": "3.10.5"
  }
 },
 "nbformat": 4,
 "nbformat_minor": 5
}
