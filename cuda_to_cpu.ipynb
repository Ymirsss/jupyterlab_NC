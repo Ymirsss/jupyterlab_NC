{
 "cells": [
  {
   "cell_type": "code",
   "execution_count": null,
   "id": "d162f911-3d9c-41a2-92cc-8f2e8019b9e1",
   "metadata": {
    "tags": []
   },
   "outputs": [],
   "source": [
    "import torch\n",
    "import torchvision\n",
    "\n",
    "device = torch.device('cpu')\n",
    "\n",
    "model = B.SomeModel.to('cpu')\n",
    "model = B.SomeModel.to(device)\n",
    "\n",
    "X = torch.randn(16, 3, 224, 224)\n",
    "X2 = torch.ones(16, 3, 224, 224)\n",
    "\n",
    "X = X.cpu()\n",
    "X2 = torch.tensor(X2, device='cpu')\n"
   ]
  }
 ],
 "metadata": {
  "kernelspec": {
   "display_name": "Python 3 (ipykernel)",
   "language": "python",
   "name": "python3"
  },
  "language_info": {
   "codemirror_mode": {
    "name": "ipython",
    "version": 3
   },
   "file_extension": ".py",
   "mimetype": "text/x-python",
   "name": "python",
   "nbconvert_exporter": "python",
   "pygments_lexer": "ipython3",
   "version": "3.10.5"
  }
 },
 "nbformat": 4,
 "nbformat_minor": 5
}
