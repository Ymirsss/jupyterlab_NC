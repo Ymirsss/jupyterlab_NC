{
 "cells": [
  {
   "cell_type": "code",
   "execution_count": null,
   "id": "56cc0db5-f6fa-4b29-8b90-050e68f1477b",
   "metadata": {},
   "outputs": [],
   "source": [
    "import torch\n",
    "import torchvision.models as models\n",
    "model = models.resnet50(pretrained=True)\n",
    "model.eval()\n",
    "input = torch.rand(1, 3, 224, 224)\n",
    "# [coder] pytorch_inc_static_quant_fxmodel [begin] # [coder-enabled]\n",
    "if \"GraphModule\" not in str(type(model)): # [coder-enabled]\n",
    "    def eval_func(model): # [coder-enabled]\n",
    "        output = model(input) # [coder-enabled]\n",
    "        return 1 # [coder-enabled]\n",
    "    from neural_compressor.conf.config import QuantConf # [coder-enabled]\n",
    "    from neural_compressor.experimental import Quantization, common # [coder-enabled]\n",
    "    quant_config = QuantConf() # [coder-enabled]\n",
    "    quant_config.usr_cfg.model.framework = \"pytorch_fx\" # [coder-enabled]\n",
    "    quantizer = Quantization(quant_config) # [coder-enabled]\n",
    "    quantizer.model = common.Model(model) # [coder-enabled]\n",
    "    quantizer.calib_dataloader = dummy_dataloader # [coder-enabled]\n",
    "    quantizer.eval_func = eval_func # [coder-enabled]\n",
    "    model = quantizer() # [coder-enabled]\n",
    "    model = model.model # [coder-enabled]\n",
    "    model.eval() # [coder-enabled]\n",
    "# [coder] pytorch_inc_static_quant_fxmodel [end] # [coder-enabled]\n",
    "with torch.no_grad():\n",
    "        output = model(input)\n",
    "\n"
   ]
  }
 ],
 "metadata": {
  "kernelspec": {
   "display_name": "Python 3 (ipykernel)",
   "language": "python",
   "name": "python3"
  },
  "language_info": {
   "codemirror_mode": {
    "name": "ipython",
    "version": 3
   },
   "file_extension": ".py",
   "mimetype": "text/x-python",
   "name": "python",
   "nbconvert_exporter": "python",
   "pygments_lexer": "ipython3",
   "version": "3.10.5"
  }
 },
 "nbformat": 4,
 "nbformat_minor": 5
}
