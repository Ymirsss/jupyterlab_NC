{
 "cells": [
  {
   "cell_type": "markdown",
   "id": "e9c8d4c4-52f6-4f7f-b8b2-b2f1c4ab4be0",
   "metadata": {},
   "source": [
    "## Examples"
   ]
  },
  {
   "cell_type": "markdown",
   "id": "8cdb2ed0-4b29-4050-800d-8476aa56990e",
   "metadata": {},
   "source": [
    "***Note: Copy following case and then paste it to new created ipython file***"
   ]
  },
  {
   "cell_type": "markdown",
   "id": "971d7eb6-4d1a-45c8-abaa-344774b7bf45",
   "metadata": {
    "jp-MarkdownHeadingCollapsed": true,
    "tags": []
   },
   "source": [
    "- ***base case***\n",
    "```python\n",
    "import torch\n",
    "import torchvision.models as models\n",
    "model = models.resnet50(pretrained=True)\n",
    "model.eval()\n",
    "input = torch.rand(1, 3, 224, 224)\n",
    "with torch.no_grad():\n",
    "     output = model(input)\n",
    "```"
   ]
  },
  {
   "cell_type": "markdown",
   "id": "aefe732e-a0f2-4bbb-bcb4-1723fe63459c",
   "metadata": {},
   "source": [
    "- ***cuda to cpu case***\n",
    "```python\n",
    "import torch\n",
    "import torchvision\n",
    "\n",
    "torch.cuda.synchronize()\n",
    "torch.cuda.empty_cache()\n",
    "\n",
    "device = torch.device('cuda:0')\n",
    "torch.cuda.set_device()\n",
    "\n",
    "model = B.SomeModel.to('cuda')\n",
    "model = B.SomeModel.to(device)\n",
    "\n",
    "X = torch.randn(16, 3, 224, 224)\n",
    "X2 = torch.ones(16, 3, 224, 224)\n",
    "\n",
    "X = X.cuda()\n",
    "X2 = torch.tensor(X2, device='cuda')\n",
    "\n",
    "torch.cuda.synchronize()\n",
    "```"
   ]
  }
 ],
 "metadata": {
  "kernelspec": {
   "display_name": "Python 3 (ipykernel)",
   "language": "python",
   "name": "python3"
  },
  "language_info": {
   "codemirror_mode": {
    "name": "ipython",
    "version": 3
   },
   "file_extension": ".py",
   "mimetype": "text/x-python",
   "name": "python",
   "nbconvert_exporter": "python",
   "pygments_lexer": "ipython3",
   "version": "3.10.5"
  }
 },
 "nbformat": 4,
 "nbformat_minor": 5
}
