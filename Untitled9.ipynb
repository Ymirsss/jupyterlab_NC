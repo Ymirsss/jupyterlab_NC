{
 "cells": [
  {
   "cell_type": "code",
   "execution_count": null,
   "id": "978d441d-dd63-4534-a727-86ecbcd27e1a",
   "metadata": {},
   "outputs": [],
   "source": [
    "import torch\n",
    "import torchvision.models as models\n",
    "model = models.resnet50(pretrained=True)\n",
    "# [coder] pytorch_jit_scriptmodel [begin] # [coder-enabled]\n",
    "if \"jit\" not in str(type(model)): # [coder-enabled]\n",
    "    import torch # [coder-enabled]\n",
    "    with torch.no_grad(): # [coder-enabled]\n",
    "        model.eval() # [coder-enabled]\n",
    "        model = torch.jit.script(model) # [coder-enabled]\n",
    "        model = torch.jit.freeze(model) # [coder-enabled]\n",
    "# [coder] pytorch_jit_scriptmodel [end] # [coder-enabled]\n",
    "model.eval()\n",
    "input = torch.rand(1, 3, 224, 224)\n",
    "with torch.no_grad():\n",
    "        output = model(input)\n"
   ]
  }
 ],
 "metadata": {
  "kernelspec": {
   "display_name": "Python 3 (ipykernel)",
   "language": "python",
   "name": "python3"
  },
  "language_info": {
   "codemirror_mode": {
    "name": "ipython",
    "version": 3
   },
   "file_extension": ".py",
   "mimetype": "text/x-python",
   "name": "python",
   "nbconvert_exporter": "python",
   "pygments_lexer": "ipython3",
   "version": "3.10.5"
  }
 },
 "nbformat": 4,
 "nbformat_minor": 5
}
