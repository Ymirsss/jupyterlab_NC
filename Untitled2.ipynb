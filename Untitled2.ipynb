{
 "cells": [
  {
   "cell_type": "code",
   "execution_count": null,
   "id": "77040c77-f033-4da7-bd3a-b4df0e63607c",
   "metadata": {},
   "outputs": [],
   "source": [
    "import torch\n",
    "import torchvision"
   ]
  },
  {
   "cell_type": "code",
   "execution_count": null,
   "id": "ce338783-ac2a-4c28-9a36-d4ae6f7503e2",
   "metadata": {},
   "outputs": [],
   "source": [
    "import xxx"
   ]
  },
  {
   "cell_type": "code",
   "execution_count": null,
   "id": "ca73051e-8de1-458e-bb09-b892de6aabbd",
   "metadata": {},
   "outputs": [],
   "source": [
    "torch.cuda.synchronize()\n",
    "torch.cuda.empty_cache()\n",
    "\n",
    "device = torch.device('cuda:0')\n",
    "torch.cuda.set_device()\n",
    "\n",
    "model = B.SomeModel.to('cuda')\n",
    "model = B.SomeModel.to(device)\n",
    "\n",
    "X = torch.randn(16, 3, 224, 224)\n",
    "X2 = torch.ones(16, 3, 224, 224)\n",
    "\n",
    "X = X.cuda()\n",
    "X2 = torch.tensor(X2, device='cuda')\n",
    "\n",
    "torch.cuda.synchronize()"
   ]
  }
 ],
 "metadata": {
  "kernelspec": {
   "display_name": "Python 3 (ipykernel)",
   "language": "python",
   "name": "python3"
  },
  "language_info": {
   "codemirror_mode": {
    "name": "ipython",
    "version": 3
   },
   "file_extension": ".py",
   "mimetype": "text/x-python",
   "name": "python",
   "nbconvert_exporter": "python",
   "pygments_lexer": "ipython3",
   "version": "3.10.5"
  }
 },
 "nbformat": 4,
 "nbformat_minor": 5
}
